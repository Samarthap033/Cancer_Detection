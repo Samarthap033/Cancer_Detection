{
 "cells": [
  {
   "cell_type": "code",
   "execution_count": 4,
   "metadata": {},
   "outputs": [],
   "source": [
    "import pip\n",
    "\n"
   ]
  },
  {
   "cell_type": "code",
   "execution_count": 5,
   "metadata": {
    "_cell_guid": "b1076dfc-b9ad-4769-8c92-a6c4dae69d19",
    "_uuid": "8f2839f25d086af736a60e9eeb907d3b93b6e0e5",
    "execution": {
     "iopub.execute_input": "2023-07-04T02:34:57.310084Z",
     "iopub.status.busy": "2023-07-04T02:34:57.309544Z",
     "iopub.status.idle": "2023-07-04T02:34:57.326769Z",
     "shell.execute_reply": "2023-07-04T02:34:57.325651Z",
     "shell.execute_reply.started": "2023-07-04T02:34:57.310045Z"
    }
   },
   "outputs": [],
   "source": [
    "import numpy as np \n",
    "import pandas as pd \n"
   ]
  },
  {
   "cell_type": "markdown",
   "metadata": {},
   "source": [
    "# Data Loading"
   ]
  },
  {
   "cell_type": "code",
   "execution_count": null,
   "metadata": {
    "execution": {
     "iopub.execute_input": "2023-07-04T02:34:57.330385Z",
     "iopub.status.busy": "2023-07-04T02:34:57.32954Z",
     "iopub.status.idle": "2023-07-04T02:35:01.704148Z",
     "shell.execute_reply": "2023-07-04T02:35:01.703191Z",
     "shell.execute_reply.started": "2023-07-04T02:34:57.330353Z"
    }
   },
   "outputs": [],
   "source": [
    "data = pd.read_csv(\"C:\\Users\\SANIKA\\Downloads\\archive (1)\\DATASET\\hmnist_28_28_RGB.csv\")"
   ]
  },
  {
   "cell_type": "code",
   "execution_count": null,
   "metadata": {
    "execution": {
     "iopub.execute_input": "2023-07-04T02:35:01.706009Z",
     "iopub.status.busy": "2023-07-04T02:35:01.705642Z",
     "iopub.status.idle": "2023-07-04T02:35:01.734466Z",
     "shell.execute_reply": "2023-07-04T02:35:01.733444Z",
     "shell.execute_reply.started": "2023-07-04T02:35:01.705975Z"
    }
   },
   "outputs": [],
   "source": [
    "data.head()"
   ]
  },
  {
   "cell_type": "code",
   "execution_count": null,
   "metadata": {
    "execution": {
     "iopub.execute_input": "2023-07-04T02:35:01.73922Z",
     "iopub.status.busy": "2023-07-04T02:35:01.738449Z",
     "iopub.status.idle": "2023-07-04T02:35:01.777769Z",
     "shell.execute_reply": "2023-07-04T02:35:01.776426Z",
     "shell.execute_reply.started": "2023-07-04T02:35:01.739187Z"
    }
   },
   "outputs": [],
   "source": [
    "meta_df = pd.read_csv(\"C:/Users/SANIKA/Downloads/archive (1)/DATASET/hmnist_28_28_RGB.csv\")\n",
    "meta_df.head()"
   ]
  },
  {
   "cell_type": "code",
   "execution_count": null,
   "metadata": {
    "execution": {
     "iopub.execute_input": "2023-07-04T02:35:01.779671Z",
     "iopub.status.busy": "2023-07-04T02:35:01.77932Z",
     "iopub.status.idle": "2023-07-04T02:35:01.787333Z",
     "shell.execute_reply": "2023-07-04T02:35:01.786051Z",
     "shell.execute_reply.started": "2023-07-04T02:35:01.77963Z"
    }
   },
   "outputs": [
    {
     "data": {
      "text/plain": [
       "(10015, 7)"
      ]
     },
     "execution_count": 5,
     "metadata": {},
     "output_type": "execute_result"
    }
   ],
   "source": [
    "meta_df.shape"
   ]
  },
  {
   "cell_type": "code",
   "execution_count": null,
   "metadata": {
    "execution": {
     "iopub.execute_input": "2023-07-04T02:35:01.789701Z",
     "iopub.status.busy": "2023-07-04T02:35:01.788837Z",
     "iopub.status.idle": "2023-07-04T02:35:01.797278Z",
     "shell.execute_reply": "2023-07-04T02:35:01.796209Z",
     "shell.execute_reply.started": "2023-07-04T02:35:01.789668Z"
    }
   },
   "outputs": [
    {
     "data": {
      "text/plain": [
       "(10015, 2353)"
      ]
     },
     "execution_count": 6,
     "metadata": {},
     "output_type": "execute_result"
    }
   ],
   "source": [
    "data.shape"
   ]
  },
  {
   "cell_type": "code",
   "execution_count": null,
   "metadata": {
    "execution": {
     "iopub.execute_input": "2023-07-04T02:35:01.799274Z",
     "iopub.status.busy": "2023-07-04T02:35:01.79857Z",
     "iopub.status.idle": "2023-07-04T02:35:01.864417Z",
     "shell.execute_reply": "2023-07-04T02:35:01.863424Z",
     "shell.execute_reply.started": "2023-07-04T02:35:01.799203Z"
    }
   },
   "outputs": [],
   "source": [
    "yData = data['label']\n",
    "XData = data.drop(columns = ['label'])"
   ]
  },
  {
   "cell_type": "markdown",
   "metadata": {},
   "source": [
    "# EDA"
   ]
  },
  {
   "cell_type": "code",
   "execution_count": null,
   "metadata": {
    "execution": {
     "iopub.execute_input": "2023-07-04T02:35:01.866487Z",
     "iopub.status.busy": "2023-07-04T02:35:01.866072Z",
     "iopub.status.idle": "2023-07-04T02:35:01.881589Z",
     "shell.execute_reply": "2023-07-04T02:35:01.880576Z",
     "shell.execute_reply.started": "2023-07-04T02:35:01.866454Z"
    }
   },
   "outputs": [
    {
     "data": {
      "text/plain": [
       "dx\n",
       "nv       6705\n",
       "mel      1113\n",
       "bkl      1099\n",
       "bcc       514\n",
       "akiec     327\n",
       "vasc      142\n",
       "df        115\n",
       "Name: count, dtype: int64"
      ]
     },
     "execution_count": 8,
     "metadata": {},
     "output_type": "execute_result"
    }
   ],
   "source": [
    "distribution = meta_df['dx'].value_counts()\n",
    "distribution"
   ]
  },
  {
   "cell_type": "code",
   "execution_count": null,
   "metadata": {},
   "outputs": [],
   "source": [
    "# classes = {4: ('nv', ' melanocytic nevi'),\n",
    "#            6: ('mel', 'melanoma'),\n",
    "#            2 :('bkl', 'benign keratosis-like lesions'), \n",
    "#            1:('bcc' , ' basal cell carcinoma'),\n",
    "#            5: ('vasc', ' pyogenic granulomas and hemorrhage'),\n",
    "#            0: ('akiec', 'Actinic keratoses and intraepithelial carcinomae'),\n",
    "#            3: ('df', 'dermatofibroma')}"
   ]
  },
  {
   "cell_type": "code",
   "execution_count": null,
   "metadata": {
    "execution": {
     "iopub.execute_input": "2023-07-04T02:35:01.887411Z",
     "iopub.status.busy": "2023-07-04T02:35:01.88715Z",
     "iopub.status.idle": "2023-07-04T02:35:01.896712Z",
     "shell.execute_reply": "2023-07-04T02:35:01.89561Z",
     "shell.execute_reply.started": "2023-07-04T02:35:01.887388Z"
    }
   },
   "outputs": [
    {
     "data": {
      "text/plain": [
       "label\n",
       "4    6705\n",
       "6    1113\n",
       "2    1099\n",
       "1     514\n",
       "0     327\n",
       "5     142\n",
       "3     115\n",
       "Name: count, dtype: int64"
      ]
     },
     "execution_count": 9,
     "metadata": {},
     "output_type": "execute_result"
    }
   ],
   "source": [
    "dist = data['label'].value_counts()\n",
    "dist"
   ]
  },
  {
   "cell_type": "markdown",
   "metadata": {},
   "source": [
    "**There's alot of data imbalance**"
   ]
  },
  {
   "cell_type": "code",
   "execution_count": null,
   "metadata": {
    "execution": {
     "iopub.execute_input": "2023-07-04T02:35:01.89874Z",
     "iopub.status.busy": "2023-07-04T02:35:01.898127Z",
     "iopub.status.idle": "2023-07-04T02:35:02.188901Z",
     "shell.execute_reply": "2023-07-04T02:35:02.187933Z",
     "shell.execute_reply.started": "2023-07-04T02:35:01.898646Z"
    }
   },
   "outputs": [
    {
     "data": {
      "text/plain": [
       "<Axes: xlabel='dx'>"
      ]
     },
     "execution_count": 10,
     "metadata": {},
     "output_type": "execute_result"
    },
    {
     "data": {
      "image/png": "[encoded data removed]",
      "text/plain": [
       "<Figure size 640x480 with 1 Axes>"
      ]
     },
     "metadata": {},
     "output_type": "display_data"
    }
   ],
   "source": [
    "distribution.plot()"
   ]
  },
  {
   "cell_type": "markdown",
   "metadata": {},
   "source": [
    "# Fixing Data Imbalance\n",
    "\n",
    "* **over sample the dateset using Random Over Sampler**"
   ]
  },
  {
   "cell_type": "code",
   "execution_count": null,
   "metadata": {
    "execution": {
     "iopub.execute_input": "2023-07-04T02:35:02.191843Z",
     "iopub.status.busy": "2023-07-04T02:35:02.190883Z",
     "iopub.status.idle": "2023-07-04T02:35:03.240256Z",
     "shell.execute_reply": "2023-07-04T02:35:03.23932Z",
     "shell.execute_reply.started": "2023-07-04T02:35:02.19181Z"
    }
   },
   "outputs": [],
   "source": [
    "from imblearn.over_sampling import RandomOverSampler \n"
   ]
  },
  {
   "cell_type": "code",
   "execution_count": null,
   "metadata": {
    "execution": {
     "iopub.execute_input": "2023-07-04T02:35:03.241991Z",
     "iopub.status.busy": "2023-07-04T02:35:03.241659Z",
     "iopub.status.idle": "2023-07-04T02:35:05.473966Z",
     "shell.execute_reply": "2023-07-04T02:35:05.47299Z",
     "shell.execute_reply.started": "2023-07-04T02:35:03.241962Z"
    }
   },
   "outputs": [],
   "source": [
    "sampler = RandomOverSampler()\n",
    "XData,yData  = sampler.fit_resample(XData,yData)"
   ]
  },
  {
   "cell_type": "code",
   "execution_count": null,
   "metadata": {
    "execution": {
     "iopub.execute_input": "2023-07-04T02:35:05.475947Z",
     "iopub.status.busy": "2023-07-04T02:35:05.475567Z",
     "iopub.status.idle": "2023-07-04T02:35:05.482998Z",
     "shell.execute_reply": "2023-07-04T02:35:05.482075Z",
     "shell.execute_reply.started": "2023-07-04T02:35:05.475913Z"
    }
   },
   "outputs": [
    {
     "data": {
      "text/plain": [
       "((46935, 2352), (46935,))"
      ]
     },
     "execution_count": 13,
     "metadata": {},
     "output_type": "execute_result"
    }
   ],
   "source": [
    "XData.shape, yData.shape"
   ]
  },
  {
   "cell_type": "code",
   "execution_count": null,
   "metadata": {
    "execution": {
     "iopub.execute_input": "2023-07-04T02:35:05.485255Z",
     "iopub.status.busy": "2023-07-04T02:35:05.48425Z",
     "iopub.status.idle": "2023-07-04T02:35:06.741816Z",
     "shell.execute_reply": "2023-07-04T02:35:06.74092Z",
     "shell.execute_reply.started": "2023-07-04T02:35:05.485225Z"
    }
   },
   "outputs": [
    {
     "data": {
      "text/plain": [
       "(46935, 28, 28, 3)"
      ]
     },
     "execution_count": 14,
     "metadata": {},
     "output_type": "execute_result"
    }
   ],
   "source": [
    "XData = np.array(XData).reshape((-1, 28, 28, 3))\n",
    "XData = XData / 255\n",
    "XData.shape"
   ]
  },
  {
   "cell_type": "markdown",
   "metadata": {},
   "source": [
    "# Create the train and validation set"
   ]
  },
  {
   "cell_type": "code",
   "execution_count": null,
   "metadata": {
    "execution": {
     "iopub.execute_input": "2023-07-04T02:35:06.743853Z",
     "iopub.status.busy": "2023-07-04T02:35:06.743058Z",
     "iopub.status.idle": "2023-07-04T02:35:06.749087Z",
     "shell.execute_reply": "2023-07-04T02:35:06.747507Z",
     "shell.execute_reply.started": "2023-07-04T02:35:06.743816Z"
    }
   },
   "outputs": [],
   "source": [
    "from sklearn.model_selection import train_test_split"
   ]
  },
  {
   "cell_type": "code",
   "execution_count": null,
   "metadata": {
    "execution": {
     "iopub.execute_input": "2023-07-04T02:35:06.752341Z",
     "iopub.status.busy": "2023-07-04T02:35:06.751295Z",
     "iopub.status.idle": "2023-07-04T02:35:08.02025Z",
     "shell.execute_reply": "2023-07-04T02:35:08.019273Z",
     "shell.execute_reply.started": "2023-07-04T02:35:06.752236Z"
    }
   },
   "outputs": [],
   "source": [
    "Xtrain, Xtest, Ytrain, Ytest = train_test_split(XData,yData, test_size=0.2)"
   ]
  },
  {
   "cell_type": "code",
   "execution_count": null,
   "metadata": {
    "execution": {
     "iopub.execute_input": "2023-07-04T02:35:08.022108Z",
     "iopub.status.busy": "2023-07-04T02:35:08.021635Z",
     "iopub.status.idle": "2023-07-04T02:35:08.029611Z",
     "shell.execute_reply": "2023-07-04T02:35:08.028582Z",
     "shell.execute_reply.started": "2023-07-04T02:35:08.022072Z"
    }
   },
   "outputs": [
    {
     "data": {
      "text/plain": [
       "((37548, 28, 28, 3), (9387, 28, 28, 3))"
      ]
     },
     "execution_count": 17,
     "metadata": {},
     "output_type": "execute_result"
    }
   ],
   "source": [
    "Xtrain.shape, Xtest.shape"
   ]
  },
  {
   "cell_type": "code",
   "execution_count": null,
   "metadata": {},
   "outputs": [],
   "source": []
  },
  {
   "cell_type": "markdown",
   "metadata": {},
   "source": [
    "# Train the model"
   ]
  },
  {
   "cell_type": "code",
   "execution_count": null,
   "metadata": {
    "execution": {
     "iopub.execute_input": "2023-07-04T02:35:08.031572Z",
     "iopub.status.busy": "2023-07-04T02:35:08.031207Z",
     "iopub.status.idle": "2023-07-04T02:35:15.675888Z",
     "shell.execute_reply": "2023-07-04T02:35:15.674932Z",
     "shell.execute_reply.started": "2023-07-04T02:35:08.031494Z"
    }
   },
   "outputs": [],
   "source": [
    "from keras.models import Sequential\n",
    "from keras.layers import Conv2D, MaxPooling2D\n",
    "from keras.layers import Activation, Dropout, Flatten, Dense\n",
    "import tensorflow as tf\n",
    "\n",
    "img_width, img_height = 28,28\n"
   ]
  },
  {
   "cell_type": "code",
   "execution_count": null,
   "metadata": {
    "execution": {
     "iopub.execute_input": "2023-07-04T02:35:15.679173Z",
     "iopub.status.busy": "2023-07-04T02:35:15.67805Z",
     "iopub.status.idle": "2023-07-04T02:35:15.683581Z",
     "shell.execute_reply": "2023-07-04T02:35:15.682648Z",
     "shell.execute_reply.started": "2023-07-04T02:35:15.679137Z"
    }
   },
   "outputs": [],
   "source": [
    "input_shape = (img_width, img_height, 3)"
   ]
  },
  {
   "cell_type": "code",
   "execution_count": null,
   "metadata": {
    "execution": {
     "iopub.execute_input": "2023-07-04T02:35:15.685436Z",
     "iopub.status.busy": "2023-07-04T02:35:15.685044Z",
     "iopub.status.idle": "2023-07-04T02:35:18.655344Z",
     "shell.execute_reply": "2023-07-04T02:35:18.654404Z",
     "shell.execute_reply.started": "2023-07-04T02:35:15.685405Z"
    }
   },
   "outputs": [],
   "source": [
    "model = Sequential()\n",
    "model.add(Conv2D(32, (2, 2), input_shape=input_shape))\n",
    "model.add(Activation('swish'))\n",
    "model.add(MaxPooling2D(pool_size=(2, 2)))\n",
    "\n",
    "model.add(Conv2D(32, (2, 2)))\n",
    "model.add(Activation('swish'))\n",
    "model.add(MaxPooling2D(pool_size=(2, 2)))\n",
    "\n",
    "model.add(Conv2D(64, (2, 2)))\n",
    "model.add(Activation('swish'))\n",
    "model.add(MaxPooling2D(pool_size=(2, 2)))\n",
    "\n",
    "model.add(Flatten())\n",
    "model.add(Dense(64))\n",
    "model.add(Activation('swish'))\n",
    "model.add(Dropout(0.5))\n",
    "model.add(Dense(7))\n",
    "model.add(Activation('softmax'))\n"
   ]
  },
  {
   "cell_type": "code",
   "execution_count": null,
   "metadata": {
    "execution": {
     "iopub.execute_input": "2023-07-04T02:35:18.657287Z",
     "iopub.status.busy": "2023-07-04T02:35:18.656919Z",
     "iopub.status.idle": "2023-07-04T02:35:18.674678Z",
     "shell.execute_reply": "2023-07-04T02:35:18.673811Z",
     "shell.execute_reply.started": "2023-07-04T02:35:18.657254Z"
    }
   },
   "outputs": [],
   "source": [
    "model.compile(loss='sparse_categorical_crossentropy',\n",
    "optimizer='nadam',\n",
    "metrics=['accuracy'])\n"
   ]
  },
  {
   "cell_type": "code",
   "execution_count": null,
   "metadata": {
    "execution": {
     "iopub.execute_input": "2023-07-04T02:35:18.676361Z",
     "iopub.status.busy": "2023-07-04T02:35:18.675921Z",
     "iopub.status.idle": "2023-07-04T02:35:19.190527Z",
     "shell.execute_reply": "2023-07-04T02:35:19.189554Z",
     "shell.execute_reply.started": "2023-07-04T02:35:18.676331Z"
    }
   },
   "outputs": [],
   "source": [
    "callback = tf.keras.callbacks.ModelCheckpoint(filepath='skin.h5',\n",
    "                                                  monitor='val_acc', mode='max',\n",
    "                                                 verbose=1)\n",
    "\n",
    "early_stopping = tf.keras.callbacks.EarlyStopping(patience=10, restore_best_weights=True)"
   ]
  },
  {
   "cell_type": "code",
   "execution_count": null,
   "metadata": {
    "execution": {
     "iopub.execute_input": "2023-07-04T02:35:19.192636Z",
     "iopub.status.busy": "2023-07-04T02:35:19.191839Z",
     "iopub.status.idle": "2023-07-04T02:44:51.096462Z",
     "shell.execute_reply": "2023-07-04T02:44:51.095426Z",
     "shell.execute_reply.started": "2023-07-04T02:35:19.192601Z"
    }
   },
   "outputs": [
    {
     "name": "stdout",
     "output_type": "stream",
     "text": [
      "Epoch 1/100\n",
      "1169/1174 [============================>.] - ETA: 0s - loss: 1.3977 - accuracy: 0.4422\n",
      "Epoch 1: saving model to best_model.h5\n",
      "1174/1174 [==============================] - 12s 9ms/step - loss: 1.3966 - accuracy: 0.4427 - val_loss: 1.0891 - val_accuracy: 0.5787\n",
      "Epoch 2/100\n",
      "1174/1174 [==============================] - ETA: 0s - loss: 1.0505 - accuracy: 0.5962\n",
      "Epoch 2: saving model to best_model.h5\n",
      "1174/1174 [==============================] - 12s 10ms/step - loss: 1.0505 - accuracy: 0.5962 - val_loss: 0.9161 - val_accuracy: 0.6580\n",
      "Epoch 3/100\n",
      "1172/1174 [============================>.] - ETA: 0s - loss: 0.8979 - accuracy: 0.6580\n",
      "Epoch 3: saving model to best_model.h5\n",
      "1174/1174 [==============================] - 12s 10ms/step - loss: 0.8975 - accuracy: 0.6581 - val_loss: 0.7588 - val_accuracy: 0.7180\n",
      "Epoch 4/100\n",
      "1171/1174 [============================>.] - ETA: 0s - loss: 0.7806 - accuracy: 0.7031\n",
      "Epoch 4: saving model to best_model.h5\n",
      "1174/1174 [==============================] - 12s 10ms/step - loss: 0.7807 - accuracy: 0.7030 - val_loss: 0.6681 - val_accuracy: 0.7474\n",
      "Epoch 5/100\n",
      "1171/1174 [============================>.] - ETA: 0s - loss: 0.7002 - accuracy: 0.7354\n",
      "Epoch 5: saving model to best_model.h5\n",
      "1174/1174 [==============================] - 12s 10ms/step - loss: 0.7005 - accuracy: 0.7353 - val_loss: 0.5869 - val_accuracy: 0.7759\n",
      "Epoch 6/100\n",
      "1169/1174 [============================>.] - ETA: 0s - loss: 0.6371 - accuracy: 0.7584\n",
      "Epoch 6: saving model to best_model.h5\n",
      "1174/1174 [==============================] - 12s 10ms/step - loss: 0.6369 - accuracy: 0.7584 - val_loss: 0.5319 - val_accuracy: 0.7971\n",
      "Epoch 7/100\n",
      "1171/1174 [============================>.] - ETA: 0s - loss: 0.5826 - accuracy: 0.7784\n",
      "Epoch 7: saving model to best_model.h5\n",
      "1174/1174 [==============================] - 11s 10ms/step - loss: 0.5823 - accuracy: 0.7785 - val_loss: 0.4946 - val_accuracy: 0.8143\n",
      "Epoch 8/100\n",
      "1171/1174 [============================>.] - ETA: 0s - loss: 0.5356 - accuracy: 0.7992\n",
      "Epoch 8: saving model to best_model.h5\n",
      "1174/1174 [==============================] - 12s 10ms/step - loss: 0.5356 - accuracy: 0.7992 - val_loss: 0.4610 - val_accuracy: 0.8327\n",
      "Epoch 9/100\n",
      "1169/1174 [============================>.] - ETA: 0s - loss: 0.4981 - accuracy: 0.8126\n",
      "Epoch 9: saving model to best_model.h5\n",
      "1174/1174 [==============================] - 12s 10ms/step - loss: 0.4977 - accuracy: 0.8128 - val_loss: 0.4077 - val_accuracy: 0.8465\n",
      "Epoch 10/100\n",
      "1170/1174 [============================>.] - ETA: 0s - loss: 0.4611 - accuracy: 0.8278\n",
      "Epoch 10: saving model to best_model.h5\n",
      "1174/1174 [==============================] - 12s 10ms/step - loss: 0.4611 - accuracy: 0.8277 - val_loss: 0.3759 - val_accuracy: 0.8634\n",
      "Epoch 11/100\n",
      "1170/1174 [============================>.] - ETA: 0s - loss: 0.4279 - accuracy: 0.8386\n",
      "Epoch 11: saving model to best_model.h5\n",
      "1174/1174 [==============================] - 12s 10ms/step - loss: 0.4276 - accuracy: 0.8388 - val_loss: 0.3541 - val_accuracy: 0.8681\n",
      "Epoch 12/100\n",
      "1172/1174 [============================>.] - ETA: 0s - loss: 0.3985 - accuracy: 0.8512\n",
      "Epoch 12: saving model to best_model.h5\n",
      "1174/1174 [==============================] - 12s 10ms/step - loss: 0.3985 - accuracy: 0.8512 - val_loss: 0.3451 - val_accuracy: 0.8684\n",
      "Epoch 13/100\n",
      "1173/1174 [============================>.] - ETA: 0s - loss: 0.3740 - accuracy: 0.8582\n",
      "Epoch 13: saving model to best_model.h5\n",
      "1174/1174 [==============================] - 12s 10ms/step - loss: 0.3740 - accuracy: 0.8582 - val_loss: 0.2944 - val_accuracy: 0.8942\n",
      "Epoch 14/100\n",
      "1168/1174 [============================>.] - ETA: 0s - loss: 0.3478 - accuracy: 0.8713\n",
      "Epoch 14: saving model to best_model.h5\n",
      "1174/1174 [==============================] - 12s 10ms/step - loss: 0.3476 - accuracy: 0.8714 - val_loss: 0.2705 - val_accuracy: 0.9020\n",
      "Epoch 15/100\n",
      "1169/1174 [============================>.] - ETA: 0s - loss: 0.3304 - accuracy: 0.8748\n",
      "Epoch 15: saving model to best_model.h5\n",
      "1174/1174 [==============================] - 12s 10ms/step - loss: 0.3303 - accuracy: 0.8748 - val_loss: 0.2720 - val_accuracy: 0.9006\n",
      "Epoch 16/100\n",
      "1168/1174 [============================>.] - ETA: 0s - loss: 0.3114 - accuracy: 0.8819\n",
      "Epoch 16: saving model to best_model.h5\n",
      "1174/1174 [==============================] - 12s 10ms/step - loss: 0.3116 - accuracy: 0.8819 - val_loss: 0.2462 - val_accuracy: 0.9084\n",
      "Epoch 17/100\n",
      "1169/1174 [============================>.] - ETA: 0s - loss: 0.2954 - accuracy: 0.8883\n",
      "Epoch 17: saving model to best_model.h5\n",
      "1174/1174 [==============================] - 12s 10ms/step - loss: 0.2954 - accuracy: 0.8884 - val_loss: 0.2342 - val_accuracy: 0.9156\n",
      "Epoch 18/100\n",
      "1168/1174 [============================>.] - ETA: 0s - loss: 0.2819 - accuracy: 0.8939\n",
      "Epoch 18: saving model to best_model.h5\n",
      "1174/1174 [==============================] - 12s 10ms/step - loss: 0.2822 - accuracy: 0.8938 - val_loss: 0.2193 - val_accuracy: 0.9237\n",
      "Epoch 19/100\n",
      "1173/1174 [============================>.] - ETA: 0s - loss: 0.2676 - accuracy: 0.8990\n",
      "Epoch 19: saving model to best_model.h5\n",
      "1174/1174 [==============================] - 12s 10ms/step - loss: 0.2677 - accuracy: 0.8990 - val_loss: 0.2010 - val_accuracy: 0.9314\n",
      "Epoch 20/100\n",
      "1171/1174 [============================>.] - ETA: 0s - loss: 0.2526 - accuracy: 0.9059\n",
      "Epoch 20: saving model to best_model.h5\n",
      "1174/1174 [==============================] - 12s 10ms/step - loss: 0.2527 - accuracy: 0.9059 - val_loss: 0.2011 - val_accuracy: 0.9327\n",
      "Epoch 21/100\n",
      "1171/1174 [============================>.] - ETA: 0s - loss: 0.2436 - accuracy: 0.9068\n",
      "Epoch 21: saving model to best_model.h5\n",
      "1174/1174 [==============================] - 12s 10ms/step - loss: 0.2435 - accuracy: 0.9069 - val_loss: 0.1862 - val_accuracy: 0.9384\n",
      "Epoch 22/100\n",
      "1169/1174 [============================>.] - ETA: 0s - loss: 0.2362 - accuracy: 0.9098\n",
      "Epoch 22: saving model to best_model.h5\n",
      "1174/1174 [==============================] - 12s 10ms/step - loss: 0.2363 - accuracy: 0.9098 - val_loss: 0.1796 - val_accuracy: 0.9378\n",
      "Epoch 23/100\n",
      "1172/1174 [============================>.] - ETA: 0s - loss: 0.2257 - accuracy: 0.9155\n",
      "Epoch 23: saving model to best_model.h5\n",
      "1174/1174 [==============================] - 12s 10ms/step - loss: 0.2257 - accuracy: 0.9155 - val_loss: 0.1698 - val_accuracy: 0.9387\n",
      "Epoch 24/100\n",
      "1172/1174 [============================>.] - ETA: 0s - loss: 0.2180 - accuracy: 0.9189\n",
      "Epoch 24: saving model to best_model.h5\n",
      "1174/1174 [==============================] - 12s 10ms/step - loss: 0.2182 - accuracy: 0.9188 - val_loss: 0.1731 - val_accuracy: 0.9396\n",
      "Epoch 25/100\n",
      "1169/1174 [============================>.] - ETA: 0s - loss: 0.2081 - accuracy: 0.9221\n",
      "Epoch 25: saving model to best_model.h5\n",
      "1174/1174 [==============================] - 12s 10ms/step - loss: 0.2077 - accuracy: 0.9223 - val_loss: 0.1849 - val_accuracy: 0.9328\n",
      "Epoch 26/100\n",
      "1173/1174 [============================>.] - ETA: 0s - loss: 0.2062 - accuracy: 0.9223\n",
      "Epoch 26: saving model to best_model.h5\n",
      "1174/1174 [==============================] - 12s 10ms/step - loss: 0.2062 - accuracy: 0.9223 - val_loss: 0.1575 - val_accuracy: 0.9482\n",
      "Epoch 27/100\n",
      "1173/1174 [============================>.] - ETA: 0s - loss: 0.1963 - accuracy: 0.9277\n",
      "Epoch 27: saving model to best_model.h5\n",
      "1174/1174 [==============================] - 12s 10ms/step - loss: 0.1962 - accuracy: 0.9277 - val_loss: 0.1459 - val_accuracy: 0.9509\n",
      "Epoch 28/100\n",
      "1169/1174 [============================>.] - ETA: 0s - loss: 0.1900 - accuracy: 0.9295\n",
      "Epoch 28: saving model to best_model.h5\n",
      "1174/1174 [==============================] - 12s 10ms/step - loss: 0.1900 - accuracy: 0.9295 - val_loss: 0.1531 - val_accuracy: 0.9476\n",
      "Epoch 29/100\n",
      "1171/1174 [============================>.] - ETA: 0s - loss: 0.1886 - accuracy: 0.9290\n",
      "Epoch 29: saving model to best_model.h5\n",
      "1174/1174 [==============================] - 12s 10ms/step - loss: 0.1888 - accuracy: 0.9289 - val_loss: 0.1404 - val_accuracy: 0.9532\n",
      "Epoch 30/100\n",
      "1169/1174 [============================>.] - ETA: 0s - loss: 0.1762 - accuracy: 0.9348\n",
      "Epoch 30: saving model to best_model.h5\n",
      "1174/1174 [==============================] - 12s 10ms/step - loss: 0.1761 - accuracy: 0.9349 - val_loss: 0.1265 - val_accuracy: 0.9597\n",
      "Epoch 31/100\n",
      "1170/1174 [============================>.] - ETA: 0s - loss: 0.1742 - accuracy: 0.9359\n",
      "Epoch 31: saving model to best_model.h5\n",
      "1174/1174 [==============================] - 12s 10ms/step - loss: 0.1739 - accuracy: 0.9360 - val_loss: 0.1419 - val_accuracy: 0.9512\n",
      "Epoch 32/100\n",
      "1171/1174 [============================>.] - ETA: 0s - loss: 0.1720 - accuracy: 0.9360\n",
      "Epoch 32: saving model to best_model.h5\n",
      "1174/1174 [==============================] - 12s 10ms/step - loss: 0.1720 - accuracy: 0.9360 - val_loss: 0.1488 - val_accuracy: 0.9524\n",
      "Epoch 33/100\n",
      "1172/1174 [============================>.] - ETA: 0s - loss: 0.1634 - accuracy: 0.9392\n",
      "Epoch 33: saving model to best_model.h5\n",
      "1174/1174 [==============================] - 13s 11ms/step - loss: 0.1633 - accuracy: 0.9393 - val_loss: 0.1419 - val_accuracy: 0.9565\n",
      "Epoch 34/100\n",
      "1169/1174 [============================>.] - ETA: 0s - loss: 0.1611 - accuracy: 0.9404\n",
      "Epoch 34: saving model to best_model.h5\n",
      "1174/1174 [==============================] - 13s 11ms/step - loss: 0.1613 - accuracy: 0.9403 - val_loss: 0.1248 - val_accuracy: 0.9591\n",
      "Epoch 35/100\n",
      "1171/1174 [============================>.] - ETA: 0s - loss: 0.1551 - accuracy: 0.9432\n",
      "Epoch 35: saving model to best_model.h5\n",
      "1174/1174 [==============================] - 12s 10ms/step - loss: 0.1550 - accuracy: 0.9433 - val_loss: 0.1189 - val_accuracy: 0.9601\n",
      "Epoch 36/100\n",
      "1173/1174 [============================>.] - ETA: 0s - loss: 0.1507 - accuracy: 0.9440\n",
      "Epoch 36: saving model to best_model.h5\n",
      "1174/1174 [==============================] - 12s 10ms/step - loss: 0.1507 - accuracy: 0.9440 - val_loss: 0.1213 - val_accuracy: 0.9627\n",
      "Epoch 37/100\n",
      "1171/1174 [============================>.] - ETA: 0s - loss: 0.1502 - accuracy: 0.9449\n",
      "Epoch 37: saving model to best_model.h5\n",
      "1174/1174 [==============================] - 12s 10ms/step - loss: 0.1502 - accuracy: 0.9448 - val_loss: 0.1344 - val_accuracy: 0.9548\n",
      "Epoch 38/100\n",
      "1170/1174 [============================>.] - ETA: 0s - loss: 0.1446 - accuracy: 0.9478\n",
      "Epoch 38: saving model to best_model.h5\n",
      "1174/1174 [==============================] - 12s 10ms/step - loss: 0.1443 - accuracy: 0.9479 - val_loss: 0.1171 - val_accuracy: 0.9610\n",
      "Epoch 39/100\n",
      "1173/1174 [============================>.] - ETA: 0s - loss: 0.1413 - accuracy: 0.9481\n",
      "Epoch 39: saving model to best_model.h5\n",
      "1174/1174 [==============================] - 12s 10ms/step - loss: 0.1413 - accuracy: 0.9481 - val_loss: 0.1163 - val_accuracy: 0.9614\n",
      "Epoch 40/100\n",
      "1171/1174 [============================>.] - ETA: 0s - loss: 0.1440 - accuracy: 0.9481\n",
      "Epoch 40: saving model to best_model.h5\n",
      "1174/1174 [==============================] - 12s 10ms/step - loss: 0.1439 - accuracy: 0.9481 - val_loss: 0.1160 - val_accuracy: 0.9646\n",
      "Epoch 41/100\n",
      "1170/1174 [============================>.] - ETA: 0s - loss: 0.1399 - accuracy: 0.9479\n",
      "Epoch 41: saving model to best_model.h5\n",
      "1174/1174 [==============================] - 12s 10ms/step - loss: 0.1397 - accuracy: 0.9480 - val_loss: 0.1220 - val_accuracy: 0.9648\n",
      "Epoch 42/100\n",
      "1172/1174 [============================>.] - ETA: 0s - loss: 0.1352 - accuracy: 0.9508\n",
      "Epoch 42: saving model to best_model.h5\n",
      "1174/1174 [==============================] - 12s 10ms/step - loss: 0.1352 - accuracy: 0.9508 - val_loss: 0.1049 - val_accuracy: 0.9667\n",
      "Epoch 43/100\n",
      "1170/1174 [============================>.] - ETA: 0s - loss: 0.1286 - accuracy: 0.9517\n",
      "Epoch 43: saving model to best_model.h5\n",
      "1174/1174 [==============================] - 12s 10ms/step - loss: 0.1287 - accuracy: 0.9516 - val_loss: 0.1271 - val_accuracy: 0.9595\n",
      "Epoch 44/100\n",
      "1169/1174 [============================>.] - ETA: 0s - loss: 0.1271 - accuracy: 0.9533\n",
      "Epoch 44: saving model to best_model.h5\n",
      "1174/1174 [==============================] - 12s 10ms/step - loss: 0.1270 - accuracy: 0.9534 - val_loss: 0.1050 - val_accuracy: 0.9681\n",
      "Epoch 45/100\n",
      "1169/1174 [============================>.] - ETA: 0s - loss: 0.1272 - accuracy: 0.9549\n",
      "Epoch 45: saving model to best_model.h5\n",
      "1174/1174 [==============================] - 12s 10ms/step - loss: 0.1275 - accuracy: 0.9549 - val_loss: 0.1069 - val_accuracy: 0.9687\n",
      "Epoch 46/100\n",
      "1168/1174 [============================>.] - ETA: 0s - loss: 0.1242 - accuracy: 0.9538\n",
      "Epoch 46: saving model to best_model.h5\n",
      "1174/1174 [==============================] - 12s 10ms/step - loss: 0.1242 - accuracy: 0.9538 - val_loss: 0.1120 - val_accuracy: 0.9664\n",
      "Epoch 47/100\n",
      "1170/1174 [============================>.] - ETA: 0s - loss: 0.1213 - accuracy: 0.9553\n",
      "Epoch 47: saving model to best_model.h5\n",
      "1174/1174 [==============================] - 12s 10ms/step - loss: 0.1217 - accuracy: 0.9552 - val_loss: 0.1103 - val_accuracy: 0.9668\n",
      "Epoch 48/100\n",
      "1173/1174 [============================>.] - ETA: 0s - loss: 0.1227 - accuracy: 0.9556\n",
      "Epoch 48: saving model to best_model.h5\n",
      "1174/1174 [==============================] - 12s 10ms/step - loss: 0.1228 - accuracy: 0.9556 - val_loss: 0.1052 - val_accuracy: 0.9673\n",
      "Epoch 49/100\n",
      "1170/1174 [============================>.] - ETA: 0s - loss: 0.1175 - accuracy: 0.9581\n",
      "Epoch 49: saving model to best_model.h5\n",
      "1174/1174 [==============================] - 12s 10ms/step - loss: 0.1175 - accuracy: 0.9581 - val_loss: 0.1071 - val_accuracy: 0.9650\n",
      "Epoch 50/100\n",
      "1168/1174 [============================>.] - ETA: 0s - loss: 0.1190 - accuracy: 0.9581\n",
      "Epoch 50: saving model to best_model.h5\n",
      "1174/1174 [==============================] - 12s 10ms/step - loss: 0.1191 - accuracy: 0.9580 - val_loss: 0.0946 - val_accuracy: 0.9712\n",
      "Epoch 51/100\n",
      "1170/1174 [============================>.] - ETA: 0s - loss: 0.1147 - accuracy: 0.9590\n",
      "Epoch 51: saving model to best_model.h5\n",
      "1174/1174 [==============================] - 12s 10ms/step - loss: 0.1148 - accuracy: 0.9590 - val_loss: 0.1019 - val_accuracy: 0.9694\n",
      "Epoch 52/100\n",
      "1168/1174 [============================>.] - ETA: 0s - loss: 0.1080 - accuracy: 0.9608\n",
      "Epoch 52: saving model to best_model.h5\n",
      "1174/1174 [==============================] - 12s 10ms/step - loss: 0.1085 - accuracy: 0.9605 - val_loss: 0.0947 - val_accuracy: 0.9727\n",
      "Epoch 53/100\n",
      "1174/1174 [==============================] - ETA: 0s - loss: 0.1117 - accuracy: 0.9599\n",
      "Epoch 53: saving model to best_model.h5\n",
      "1174/1174 [==============================] - 12s 10ms/step - loss: 0.1117 - accuracy: 0.9599 - val_loss: 0.1174 - val_accuracy: 0.9657\n",
      "Epoch 54/100\n",
      "1170/1174 [============================>.] - ETA: 0s - loss: 0.1142 - accuracy: 0.9592\n",
      "Epoch 54: saving model to best_model.h5\n",
      "1174/1174 [==============================] - 12s 10ms/step - loss: 0.1142 - accuracy: 0.9592 - val_loss: 0.1004 - val_accuracy: 0.9694\n",
      "Epoch 55/100\n",
      "1171/1174 [============================>.] - ETA: 0s - loss: 0.1069 - accuracy: 0.9614\n",
      "Epoch 55: saving model to best_model.h5\n",
      "1174/1174 [==============================] - 12s 10ms/step - loss: 0.1070 - accuracy: 0.9614 - val_loss: 0.1206 - val_accuracy: 0.9629\n",
      "Epoch 56/100\n",
      "1168/1174 [============================>.] - ETA: 0s - loss: 0.1088 - accuracy: 0.9616\n",
      "Epoch 56: saving model to best_model.h5\n",
      "1174/1174 [==============================] - 12s 10ms/step - loss: 0.1088 - accuracy: 0.9615 - val_loss: 0.1018 - val_accuracy: 0.9717\n",
      "Epoch 57/100\n",
      "1172/1174 [============================>.] - ETA: 0s - loss: 0.1016 - accuracy: 0.9636\n",
      "Epoch 57: saving model to best_model.h5\n",
      "1174/1174 [==============================] - 12s 10ms/step - loss: 0.1017 - accuracy: 0.9636 - val_loss: 0.0970 - val_accuracy: 0.9700\n",
      "Epoch 58/100\n",
      "1171/1174 [============================>.] - ETA: 0s - loss: 0.1083 - accuracy: 0.9612\n",
      "Epoch 58: saving model to best_model.h5\n",
      "1174/1174 [==============================] - 12s 10ms/step - loss: 0.1083 - accuracy: 0.9611 - val_loss: 0.1072 - val_accuracy: 0.9699\n",
      "Epoch 59/100\n",
      "1171/1174 [============================>.] - ETA: 0s - loss: 0.1013 - accuracy: 0.9632\n",
      "Epoch 59: saving model to best_model.h5\n",
      "1174/1174 [==============================] - 12s 10ms/step - loss: 0.1014 - accuracy: 0.9631 - val_loss: 0.1008 - val_accuracy: 0.9718\n",
      "Epoch 60/100\n",
      "1169/1174 [============================>.] - ETA: 0s - loss: 0.1007 - accuracy: 0.9634\n",
      "Epoch 60: saving model to best_model.h5\n",
      "1174/1174 [==============================] - 12s 10ms/step - loss: 0.1011 - accuracy: 0.9632 - val_loss: 0.0884 - val_accuracy: 0.9758\n",
      "Epoch 61/100\n",
      "1169/1174 [============================>.] - ETA: 0s - loss: 0.1005 - accuracy: 0.9641\n",
      "Epoch 61: saving model to best_model.h5\n",
      "1174/1174 [==============================] - 12s 10ms/step - loss: 0.1004 - accuracy: 0.9642 - val_loss: 0.0957 - val_accuracy: 0.9727\n",
      "Epoch 62/100\n",
      "1171/1174 [============================>.] - ETA: 0s - loss: 0.0984 - accuracy: 0.9650\n",
      "Epoch 62: saving model to best_model.h5\n",
      "1174/1174 [==============================] - 12s 10ms/step - loss: 0.0984 - accuracy: 0.9651 - val_loss: 0.0904 - val_accuracy: 0.9743\n",
      "Epoch 63/100\n",
      "1168/1174 [============================>.] - ETA: 0s - loss: 0.0929 - accuracy: 0.9669\n",
      "Epoch 63: saving model to best_model.h5\n",
      "1174/1174 [==============================] - 12s 10ms/step - loss: 0.0930 - accuracy: 0.9669 - val_loss: 0.0969 - val_accuracy: 0.9722\n",
      "Epoch 64/100\n",
      "1171/1174 [============================>.] - ETA: 0s - loss: 0.0953 - accuracy: 0.9652\n",
      "Epoch 64: saving model to best_model.h5\n",
      "1174/1174 [==============================] - 12s 10ms/step - loss: 0.0954 - accuracy: 0.9652 - val_loss: 0.1018 - val_accuracy: 0.9732\n",
      "Epoch 65/100\n",
      "1173/1174 [============================>.] - ETA: 0s - loss: 0.0964 - accuracy: 0.9655\n",
      "Epoch 65: saving model to best_model.h5\n",
      "1174/1174 [==============================] - 12s 10ms/step - loss: 0.0964 - accuracy: 0.9655 - val_loss: 0.0962 - val_accuracy: 0.9753\n",
      "Epoch 66/100\n",
      "1169/1174 [============================>.] - ETA: 0s - loss: 0.0986 - accuracy: 0.9655\n",
      "Epoch 66: saving model to best_model.h5\n",
      "1174/1174 [==============================] - 12s 10ms/step - loss: 0.0988 - accuracy: 0.9654 - val_loss: 0.0836 - val_accuracy: 0.9774\n",
      "Epoch 67/100\n",
      "1168/1174 [============================>.] - ETA: 0s - loss: 0.0870 - accuracy: 0.9687\n",
      "Epoch 67: saving model to best_model.h5\n",
      "1174/1174 [==============================] - 12s 10ms/step - loss: 0.0869 - accuracy: 0.9687 - val_loss: 0.1046 - val_accuracy: 0.9722\n",
      "Epoch 68/100\n",
      "1173/1174 [============================>.] - ETA: 0s - loss: 0.1005 - accuracy: 0.9645\n",
      "Epoch 68: saving model to best_model.h5\n",
      "1174/1174 [==============================] - 12s 10ms/step - loss: 0.1006 - accuracy: 0.9645 - val_loss: 0.1023 - val_accuracy: 0.9732\n",
      "Epoch 69/100\n",
      "1173/1174 [============================>.] - ETA: 0s - loss: 0.0881 - accuracy: 0.9691\n",
      "Epoch 69: saving model to best_model.h5\n",
      "1174/1174 [==============================] - 12s 10ms/step - loss: 0.0882 - accuracy: 0.9691 - val_loss: 0.1115 - val_accuracy: 0.9685\n",
      "Epoch 70/100\n",
      "1168/1174 [============================>.] - ETA: 0s - loss: 0.0920 - accuracy: 0.9674\n",
      "Epoch 70: saving model to best_model.h5\n",
      "1174/1174 [==============================] - 12s 10ms/step - loss: 0.0919 - accuracy: 0.9674 - val_loss: 0.0880 - val_accuracy: 0.9777\n",
      "Epoch 71/100\n",
      "1167/1174 [============================>.] - ETA: 0s - loss: 0.0893 - accuracy: 0.9685\n",
      "Epoch 71: saving model to best_model.h5\n",
      "1174/1174 [==============================] - 12s 10ms/step - loss: 0.0891 - accuracy: 0.9685 - val_loss: 0.0932 - val_accuracy: 0.9777\n",
      "Epoch 72/100\n",
      "1173/1174 [============================>.] - ETA: 0s - loss: 0.0848 - accuracy: 0.9698\n",
      "Epoch 72: saving model to best_model.h5\n",
      "1174/1174 [==============================] - 12s 10ms/step - loss: 0.0848 - accuracy: 0.9698 - val_loss: 0.1018 - val_accuracy: 0.9732\n",
      "Epoch 73/100\n",
      "1173/1174 [============================>.] - ETA: 0s - loss: 0.0937 - accuracy: 0.9663\n",
      "Epoch 73: saving model to best_model.h5\n",
      "1174/1174 [==============================] - 12s 10ms/step - loss: 0.0938 - accuracy: 0.9663 - val_loss: 0.0849 - val_accuracy: 0.9765\n",
      "Epoch 74/100\n",
      "1168/1174 [============================>.] - ETA: 0s - loss: 0.0795 - accuracy: 0.9720\n",
      "Epoch 74: saving model to best_model.h5\n",
      "1174/1174 [==============================] - 12s 10ms/step - loss: 0.0796 - accuracy: 0.9720 - val_loss: 0.0879 - val_accuracy: 0.9784\n",
      "Epoch 75/100\n",
      "1173/1174 [============================>.] - ETA: 0s - loss: 0.0858 - accuracy: 0.9695\n",
      "Epoch 75: saving model to best_model.h5\n",
      "1174/1174 [==============================] - 12s 10ms/step - loss: 0.0857 - accuracy: 0.9695 - val_loss: 0.0869 - val_accuracy: 0.9778\n",
      "Epoch 76/100\n",
      "1172/1174 [============================>.] - ETA: 0s - loss: 0.0848 - accuracy: 0.9697\n",
      "Epoch 76: saving model to best_model.h5\n",
      "1174/1174 [==============================] - 13s 11ms/step - loss: 0.0850 - accuracy: 0.9697 - val_loss: 0.1063 - val_accuracy: 0.9738\n"
     ]
    }
   ],
   "source": [
    "history = model.fit(Xtrain,\n",
    "                    Ytrain,\n",
    "                    epochs = 100,\n",
    "                    validation_data = (Xtest, Ytest),\n",
    "                    callbacks=[callback, early_stopping])"
   ]
  },
  {
   "cell_type": "code",
   "execution_count": null,
   "metadata": {
    "execution": {
     "iopub.execute_input": "2023-07-04T02:46:48.20584Z",
     "iopub.status.busy": "2023-07-04T02:46:48.205429Z",
     "iopub.status.idle": "2023-07-04T02:46:48.215519Z",
     "shell.execute_reply": "2023-07-04T02:46:48.213061Z",
     "shell.execute_reply.started": "2023-07-04T02:46:48.205807Z"
    }
   },
   "outputs": [],
   "source": [
    "import matplotlib.pyplot as plt"
   ]
  },
  {
   "cell_type": "code",
   "execution_count": null,
   "metadata": {
    "execution": {
     "iopub.execute_input": "2023-07-04T02:47:38.181609Z",
     "iopub.status.busy": "2023-07-04T02:47:38.180915Z",
     "iopub.status.idle": "2023-07-04T02:47:44.128632Z",
     "shell.execute_reply": "2023-07-04T02:47:44.127652Z",
     "shell.execute_reply.started": "2023-07-04T02:47:38.181572Z"
    }
   },
   "outputs": [
    {
     "name": "stdout",
     "output_type": "stream",
     "text": [
      "1174/1174 [==============================] - 3s 3ms/step - loss: 0.0267 - accuracy: 0.9917\n"
     ]
    },
    {
     "data": {
      "text/plain": [
       "[0.026694364845752716, 0.9916639924049377]"
      ]
     },
     "execution_count": 26,
     "metadata": {},
     "output_type": "execute_result"
    }
   ],
   "source": [
    "model.evaluate(Xtrain, Ytrain)"
   ]
  },
  {
   "cell_type": "code",
   "execution_count": null,
   "metadata": {
    "execution": {
     "iopub.execute_input": "2023-07-04T02:48:00.783054Z",
     "iopub.status.busy": "2023-07-04T02:48:00.782661Z",
     "iopub.status.idle": "2023-07-04T02:48:01.832583Z",
     "shell.execute_reply": "2023-07-04T02:48:01.831052Z",
     "shell.execute_reply.started": "2023-07-04T02:48:00.783002Z"
    }
   },
   "outputs": [
    {
     "name": "stdout",
     "output_type": "stream",
     "text": [
      "294/294 [==============================] - 1s 3ms/step - loss: 0.0836 - accuracy: 0.9774\n"
     ]
    },
    {
     "data": {
      "text/plain": [
       "[0.08363594859838486, 0.9774155616760254]"
      ]
     },
     "execution_count": 27,
     "metadata": {},
     "output_type": "execute_result"
    }
   ],
   "source": [
    "model.evaluate(Xtest, Ytest)"
   ]
  },
  {
   "cell_type": "markdown",
   "metadata": {},
   "source": [
    "**PLEASE GIVE AN UPVOTE**"
   ]
  },
  {
   "cell_type": "code",
   "execution_count": null,
   "metadata": {},
   "outputs": [
    {
     "ename": "NameError",
     "evalue": "name 'model' is not defined",
     "output_type": "error",
     "traceback": [
      "\u001b[1;31m---------------------------------------------------------------------------\u001b[0m",
      "\u001b[1;31mNameError\u001b[0m                                 Traceback (most recent call last)",
      "Cell \u001b[1;32mIn[4], line 1\u001b[0m\n\u001b[1;32m----> 1\u001b[0m history \u001b[38;5;241m=\u001b[39m \u001b[43mmodel\u001b[49m\u001b[38;5;241m.\u001b[39mfit(x_train, y_train, epochs\u001b[38;5;241m=\u001b[39m\u001b[38;5;241m10\u001b[39m, validation_data\u001b[38;5;241m=\u001b[39m(x_val, y_val))\n\u001b[0;32m      3\u001b[0m history_dict \u001b[38;5;241m=\u001b[39m history\u001b[38;5;241m.\u001b[39mhistory\n\u001b[0;32m      5\u001b[0m loss_values \u001b[38;5;241m=\u001b[39m history_dict[\u001b[38;5;124m'\u001b[39m\u001b[38;5;124mloss\u001b[39m\u001b[38;5;124m'\u001b[39m]\n",
      "\u001b[1;31mNameError\u001b[0m: name 'model' is not defined"
     ]
    }
   ],
   "source": [
    "history_dict = history.history\n",
    "\n",
    "loss_values = history_dict['loss']\n",
    "val_loss_values = history_dict['val_loss']\n",
    "epochs = range(1, len(loss_values) + 1)\n",
    "\n",
    "line1 = plt.plot(epochs, val_loss_values, label='Validation/Test Loss')\n",
    "line2 = plt.plot(epochs, loss_values, label='Training Loss')\n",
    "plt.setp(line1, linewidth=2.0, marker = '+', markersize=10.0)\n",
    "plt.setp(line2, linewidth=2.0, marker = '4', markersize=10.0)\n",
    "plt.xlabel('Epochs') \n",
    "plt.ylabel('Loss')\n",
    "plt.grid(True)\n",
    "plt.legend()\n",
    "plt.show()"
   ]
  },
  {
   "cell_type": "code",
   "execution_count": null,
   "metadata": {},
   "outputs": [
    {
     "data": {
      "image/png": "[encoded data removed]",
      "text/plain": [
       "<Figure size 640x480 with 1 Axes>"
      ]
     },
     "metadata": {},
     "output_type": "display_data"
    }
   ],
   "source": [
    "history_dict = history.history\n",
    "\n",
    "acc_values = history_dict['accuracy']\n",
    "val_acc_values = history_dict['val_accuracy']\n",
    "epochs = range(1, len(loss_values) + 1)\n",
    "\n",
    "line1 = plt.plot(epochs, val_acc_values, label='Validation/Test Accuracy')\n",
    "line2 = plt.plot(epochs, acc_values, label='Training Accuracy')\n",
    "plt.setp(line1, linewidth=2.0, marker = '+', markersize=10.0)\n",
    "plt.setp(line2, linewidth=2.0, marker = '4', markersize=10.0)\n",
    "plt.xlabel('Epochs') \n",
    "plt.ylabel('Accuracy')\n",
    "plt.grid(True)\n",
    "plt.legend()\n",
    "plt.show()"
   ]
  },
  {
   "cell_type": "code",
   "execution_count": null,
   "metadata": {},
   "outputs": [],
   "source": []
  }
 ],
 "metadata": {
  "kernelspec": {
   "display_name": "Python 3 (ipykernel)",
   "language": "python",
   "name": "python3"
  },
  "language_info": {
   "codemirror_mode": {
    "name": "ipython",
    "version": 3
   },
   "file_extension": ".py",
   "mimetype": "text/x-python",
   "name": "python",
   "nbconvert_exporter": "python",
   "pygments_lexer": "ipython3",
   "version": "3.10.7"
  }
 },
 "nbformat": 4,
 "nbformat_minor": 4
}
